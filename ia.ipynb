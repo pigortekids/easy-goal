{
 "cells": [
  {
   "cell_type": "markdown",
   "metadata": {},
   "source": [
    "# Inteligência Artificial para categorizar clientes\n",
    "\n",
    "### O dataset usado nesse notebook foi retirado do Kaggle abaixo.\n",
    "https://www.kaggle.com/rainbowgirl/clustering-categorical-peoples-interests\n",
    "\n",
    "Nesse notebook está apenas uma demonsração de como seria possível dividir clientes do banco, para poder fazer recomendações mais personalizadas, isso tudo utilizando inteligência artificial\n",
    "\n",
    "### Primeiro passo é carregar e tratar os dados do dataset"
   ]
  },
  {
   "cell_type": "code",
   "execution_count": 13,
   "metadata": {},
   "outputs": [],
   "source": [
    "import os\n",
    "\n",
    "#script_folder = os.path.dirname(os.path.realpath(__file__)) + '\\\\'\n",
    "script_folder = 'E:/Coisas/igao-4-hackaton-safra/'"
   ]
  },
  {
   "cell_type": "code",
   "execution_count": 6,
   "metadata": {},
   "outputs": [],
   "source": [
    "import pandas as pd\n",
    "\n",
    "# importa arquivo\n",
    "df = pd.read_csv( script_folder + 'kaggle_Interests_group.csv' )"
   ]
  },
  {
   "cell_type": "code",
   "execution_count": 7,
   "metadata": {},
   "outputs": [],
   "source": [
    "# preenche os dados vazios com 0\n",
    "df_na = df.fillna(0)"
   ]
  },
  {
   "cell_type": "markdown",
   "metadata": {},
   "source": [
    "### Para categorizar nossos clientes, vamos usar o método KMens, um algoritmo de machine learning do tipo unsupervised learning"
   ]
  },
  {
   "cell_type": "code",
   "execution_count": 14,
   "metadata": {},
   "outputs": [],
   "source": [
    "from sklearn.cluster import KMeans\n",
    "\n",
    "# treina o modelo\n",
    "df_ineteresses = df_na.iloc[:, 2:]\n",
    "n_kmax = 15\n",
    "lista_inertias = []\n",
    "for i in range(1, n_kmax):\n",
    "    km = KMeans(  n_clusters=i , init='random', n_init=5, max_iter=150, random_state=0 )\n",
    "    km.fit( df_ineteresses )\n",
    "    lista_inertias.append(  km.inertia_  )"
   ]
  },
  {
   "cell_type": "code",
   "execution_count": 15,
   "metadata": {},
   "outputs": [
    {
     "data": {
      "image/png": "[encoded data removed]",
      "text/plain": [
       "<Figure size 576x432 with 1 Axes>"
      ]
     },
     "metadata": {
      "needs_background": "light"
     },
     "output_type": "display_data"
    }
   ],
   "source": [
    "import matplotlib.pyplot as plt\n",
    "\n",
    "# plot\n",
    "plt.figure( figsize=(8,6) )\n",
    "plt.plot(range(1, n_kmax), lista_inertias, marker='o')\n",
    "plt.xlabel('Number of clusters')\n",
    "plt.ylabel('Distortion')\n",
    "plt.show()"
   ]
  },
  {
   "cell_type": "markdown",
   "metadata": {},
   "source": [
    "### Utilizando o método Elbow para analisar o gráfico, podemos ver que o cotovelo parece estar em 4 clusters (que é a quantidade de clusters que o próprio dataset já vem separado)"
   ]
  },
  {
   "cell_type": "code",
   "execution_count": 38,
   "metadata": {},
   "outputs": [
    {
     "data": {
      "text/plain": [
       "KMeans(init='random', max_iter=400, n_clusters=4, n_init=5, random_state=0)"
      ]
     },
     "execution_count": 38,
     "metadata": {},
     "output_type": "execute_result"
    }
   ],
   "source": [
    "n_cluster = 4\n",
    "\n",
    "km = KMeans( n_clusters=n_cluster, init='random', max_iter=500, random_state=0, n_init=20 )\n",
    "km.fit( df_ineteresses )"
   ]
  },
  {
   "cell_type": "markdown",
   "metadata": {},
   "source": [
    "### Com o modelo treinado, vamos cruzar as predições com  dataset original para ver quais os principais interesses de cada grupo"
   ]
  },
  {
   "cell_type": "code",
   "execution_count": 39,
   "metadata": {},
   "outputs": [
    {
     "data": {
      "text/plain": [
       "2    2025\n",
       "0    1679\n",
       "3    1659\n",
       "1     977\n",
       "Name: cluster, dtype: int64"
      ]
     },
     "execution_count": 39,
     "metadata": {},
     "output_type": "execute_result"
    }
   ],
   "source": [
    "y_km = km.predict( df_ineteresses )\n",
    "pessoa = df_ineteresses.index\n",
    "df_cluster = pd.Series( data=y_km, name='cluster', index=pessoa )\n",
    "df_cluster.value_counts()"
   ]
  },
  {
   "cell_type": "code",
   "execution_count": 40,
   "metadata": {},
   "outputs": [
    {
     "data": {
      "text/html": [
       "<div>\n",
       "<style scoped>\n",
       "    .dataframe tbody tr th:only-of-type {\n",
       "        vertical-align: middle;\n",
       "    }\n",
       "\n",
       "    .dataframe tbody tr th {\n",
       "        vertical-align: top;\n",
       "    }\n",
       "\n",
       "    .dataframe thead th {\n",
       "        text-align: right;\n",
       "    }\n",
       "</style>\n",
       "<table border=\"1\" class=\"dataframe\">\n",
       "  <thead>\n",
       "    <tr style=\"text-align: right;\">\n",
       "      <th></th>\n",
       "      <th>group</th>\n",
       "      <th>grand_tot_interests</th>\n",
       "      <th>interest1</th>\n",
       "      <th>interest2</th>\n",
       "      <th>interest3</th>\n",
       "      <th>interest4</th>\n",
       "      <th>interest5</th>\n",
       "      <th>interest6</th>\n",
       "      <th>interest7</th>\n",
       "      <th>interest8</th>\n",
       "      <th>...</th>\n",
       "      <th>interest209</th>\n",
       "      <th>interest210</th>\n",
       "      <th>interest211</th>\n",
       "      <th>interest212</th>\n",
       "      <th>interest213</th>\n",
       "      <th>interest214</th>\n",
       "      <th>interest215</th>\n",
       "      <th>interest216</th>\n",
       "      <th>interest217</th>\n",
       "      <th>cluster</th>\n",
       "    </tr>\n",
       "  </thead>\n",
       "  <tbody>\n",
       "    <tr>\n",
       "      <th>0</th>\n",
       "      <td>C</td>\n",
       "      <td>17</td>\n",
       "      <td>0.0</td>\n",
       "      <td>0.0</td>\n",
       "      <td>0.0</td>\n",
       "      <td>0.0</td>\n",
       "      <td>0.0</td>\n",
       "      <td>0.0</td>\n",
       "      <td>0.0</td>\n",
       "      <td>0.0</td>\n",
       "      <td>...</td>\n",
       "      <td>0.0</td>\n",
       "      <td>0.0</td>\n",
       "      <td>0.0</td>\n",
       "      <td>0.0</td>\n",
       "      <td>0.0</td>\n",
       "      <td>0.0</td>\n",
       "      <td>0.0</td>\n",
       "      <td>0.0</td>\n",
       "      <td>0.0</td>\n",
       "      <td>3</td>\n",
       "    </tr>\n",
       "    <tr>\n",
       "      <th>1</th>\n",
       "      <td>C</td>\n",
       "      <td>43</td>\n",
       "      <td>1.0</td>\n",
       "      <td>0.0</td>\n",
       "      <td>0.0</td>\n",
       "      <td>0.0</td>\n",
       "      <td>1.0</td>\n",
       "      <td>0.0</td>\n",
       "      <td>0.0</td>\n",
       "      <td>0.0</td>\n",
       "      <td>...</td>\n",
       "      <td>0.0</td>\n",
       "      <td>1.0</td>\n",
       "      <td>0.0</td>\n",
       "      <td>0.0</td>\n",
       "      <td>0.0</td>\n",
       "      <td>0.0</td>\n",
       "      <td>1.0</td>\n",
       "      <td>1.0</td>\n",
       "      <td>0.0</td>\n",
       "      <td>0</td>\n",
       "    </tr>\n",
       "    <tr>\n",
       "      <th>2</th>\n",
       "      <td>C</td>\n",
       "      <td>27</td>\n",
       "      <td>0.0</td>\n",
       "      <td>0.0</td>\n",
       "      <td>0.0</td>\n",
       "      <td>0.0</td>\n",
       "      <td>0.0</td>\n",
       "      <td>0.0</td>\n",
       "      <td>0.0</td>\n",
       "      <td>0.0</td>\n",
       "      <td>...</td>\n",
       "      <td>0.0</td>\n",
       "      <td>1.0</td>\n",
       "      <td>0.0</td>\n",
       "      <td>0.0</td>\n",
       "      <td>0.0</td>\n",
       "      <td>0.0</td>\n",
       "      <td>1.0</td>\n",
       "      <td>1.0</td>\n",
       "      <td>0.0</td>\n",
       "      <td>3</td>\n",
       "    </tr>\n",
       "    <tr>\n",
       "      <th>3</th>\n",
       "      <td>C</td>\n",
       "      <td>34</td>\n",
       "      <td>0.0</td>\n",
       "      <td>0.0</td>\n",
       "      <td>0.0</td>\n",
       "      <td>0.0</td>\n",
       "      <td>0.0</td>\n",
       "      <td>0.0</td>\n",
       "      <td>0.0</td>\n",
       "      <td>0.0</td>\n",
       "      <td>...</td>\n",
       "      <td>0.0</td>\n",
       "      <td>0.0</td>\n",
       "      <td>1.0</td>\n",
       "      <td>0.0</td>\n",
       "      <td>0.0</td>\n",
       "      <td>0.0</td>\n",
       "      <td>1.0</td>\n",
       "      <td>1.0</td>\n",
       "      <td>0.0</td>\n",
       "      <td>3</td>\n",
       "    </tr>\n",
       "    <tr>\n",
       "      <th>4</th>\n",
       "      <td>C</td>\n",
       "      <td>36</td>\n",
       "      <td>0.0</td>\n",
       "      <td>0.0</td>\n",
       "      <td>0.0</td>\n",
       "      <td>0.0</td>\n",
       "      <td>1.0</td>\n",
       "      <td>0.0</td>\n",
       "      <td>0.0</td>\n",
       "      <td>0.0</td>\n",
       "      <td>...</td>\n",
       "      <td>0.0</td>\n",
       "      <td>1.0</td>\n",
       "      <td>0.0</td>\n",
       "      <td>0.0</td>\n",
       "      <td>0.0</td>\n",
       "      <td>0.0</td>\n",
       "      <td>1.0</td>\n",
       "      <td>1.0</td>\n",
       "      <td>0.0</td>\n",
       "      <td>3</td>\n",
       "    </tr>\n",
       "  </tbody>\n",
       "</table>\n",
       "<p>5 rows × 220 columns</p>\n",
       "</div>"
      ],
      "text/plain": [
       "  group  grand_tot_interests  interest1  interest2  interest3  interest4  \\\n",
       "0     C                   17        0.0        0.0        0.0        0.0   \n",
       "1     C                   43        1.0        0.0        0.0        0.0   \n",
       "2     C                   27        0.0        0.0        0.0        0.0   \n",
       "3     C                   34        0.0        0.0        0.0        0.0   \n",
       "4     C                   36        0.0        0.0        0.0        0.0   \n",
       "\n",
       "   interest5  interest6  interest7  interest8  ...  interest209  interest210  \\\n",
       "0        0.0        0.0        0.0        0.0  ...          0.0          0.0   \n",
       "1        1.0        0.0        0.0        0.0  ...          0.0          1.0   \n",
       "2        0.0        0.0        0.0        0.0  ...          0.0          1.0   \n",
       "3        0.0        0.0        0.0        0.0  ...          0.0          0.0   \n",
       "4        1.0        0.0        0.0        0.0  ...          0.0          1.0   \n",
       "\n",
       "   interest211  interest212  interest213  interest214  interest215  \\\n",
       "0          0.0          0.0          0.0          0.0          0.0   \n",
       "1          0.0          0.0          0.0          0.0          1.0   \n",
       "2          0.0          0.0          0.0          0.0          1.0   \n",
       "3          1.0          0.0          0.0          0.0          1.0   \n",
       "4          0.0          0.0          0.0          0.0          1.0   \n",
       "\n",
       "   interest216  interest217  cluster  \n",
       "0          0.0          0.0        3  \n",
       "1          1.0          0.0        0  \n",
       "2          1.0          0.0        3  \n",
       "3          1.0          0.0        3  \n",
       "4          1.0          0.0        3  \n",
       "\n",
       "[5 rows x 220 columns]"
      ]
     },
     "execution_count": 40,
     "metadata": {},
     "output_type": "execute_result"
    }
   ],
   "source": [
    "df_na_cluster = df_na.merge( df_cluster, how='left', left_index=True, right_index=True )\n",
    "df_na_cluster.head()"
   ]
  },
  {
   "cell_type": "markdown",
   "metadata": {},
   "source": [
    "### Grupo 0"
   ]
  },
  {
   "cell_type": "code",
   "execution_count": 55,
   "metadata": {},
   "outputs": [
    {
     "data": {
      "text/plain": [
       "interest183    1680.0\n",
       "interest83     1680.0\n",
       "interest58     1680.0\n",
       "interest162    1679.0\n",
       "interest110    1679.0\n",
       "                ...  \n",
       "interest207       0.0\n",
       "interest167       0.0\n",
       "interest168       0.0\n",
       "interest96        0.0\n",
       "interest94        0.0\n",
       "Length: 217, dtype: float64"
      ]
     },
     "execution_count": 55,
     "metadata": {},
     "output_type": "execute_result"
    }
   ],
   "source": [
    "df_na_cluster0 = df_na_cluster[df_na_cluster['cluster'] == 0]\n",
    "df_na_cluster0.iloc[:,2:-1].sum().sort_values(ascending=False)"
   ]
  },
  {
   "cell_type": "markdown",
   "metadata": {},
   "source": [
    "### Grupo 1"
   ]
  },
  {
   "cell_type": "code",
   "execution_count": 56,
   "metadata": {},
   "outputs": [
    {
     "data": {
      "text/plain": [
       "interest183    819.0\n",
       "interest162    733.0\n",
       "interest83     616.0\n",
       "interest78     497.0\n",
       "interest80     464.0\n",
       "               ...  \n",
       "interest53       0.0\n",
       "interest188      0.0\n",
       "interest121      0.0\n",
       "interest56       0.0\n",
       "interest108      0.0\n",
       "Length: 217, dtype: float64"
      ]
     },
     "execution_count": 56,
     "metadata": {},
     "output_type": "execute_result"
    }
   ],
   "source": [
    "df_na_cluster1 = df_na_cluster[df_na_cluster['cluster'] == 1]\n",
    "df_na_cluster1.iloc[:,2:-1].sum().sort_values(ascending=False)"
   ]
  },
  {
   "cell_type": "markdown",
   "metadata": {},
   "source": [
    "### Grupo 2"
   ]
  },
  {
   "cell_type": "code",
   "execution_count": 53,
   "metadata": {},
   "outputs": [
    {
     "data": {
      "text/plain": [
       "interest58     2027.0\n",
       "interest183    2027.0\n",
       "interest110    2027.0\n",
       "interest162    2027.0\n",
       "interest83     2027.0\n",
       "                ...  \n",
       "interest150       0.0\n",
       "interest103       0.0\n",
       "interest161       0.0\n",
       "interest31        0.0\n",
       "interest141       0.0\n",
       "Length: 217, dtype: float64"
      ]
     },
     "execution_count": 53,
     "metadata": {},
     "output_type": "execute_result"
    }
   ],
   "source": [
    "df_na_cluster2 = df_na_cluster[df_na_cluster['cluster'] == 2]\n",
    "df_na_cluster2.iloc[:,2:-1].sum().sort_values(ascending=False)"
   ]
  },
  {
   "cell_type": "markdown",
   "metadata": {},
   "source": [
    "### Grupo 3"
   ]
  },
  {
   "cell_type": "code",
   "execution_count": 54,
   "metadata": {},
   "outputs": [
    {
     "data": {
      "text/plain": [
       "interest183    1659.0\n",
       "interest162    1659.0\n",
       "interest83     1659.0\n",
       "interest58     1653.0\n",
       "interest110    1639.0\n",
       "                ...  \n",
       "interest27        0.0\n",
       "interest173       0.0\n",
       "interest123       0.0\n",
       "interest94        0.0\n",
       "interest76        0.0\n",
       "Length: 217, dtype: float64"
      ]
     },
     "execution_count": 54,
     "metadata": {},
     "output_type": "execute_result"
    }
   ],
   "source": [
    "df_na_cluster3 = df_na_cluster[df_na_cluster['cluster'] == 3]\n",
    "df_na_cluster3.iloc[:,2:-1].sum().sort_values(ascending=False)"
   ]
  },
  {
   "cell_type": "markdown",
   "metadata": {},
   "source": [
    "### Para aplicar isso para clientes do banco, teriamos que escolher as perguntas de sim ou não que usariamos como interesses, para assim clusterizar eles e poder fazer recomendações personalizadas"
   ]
  }
 ],
 "metadata": {
  "kernelspec": {
   "display_name": "Python 3",
   "language": "python",
   "name": "python3"
  },
  "language_info": {
   "codemirror_mode": {
    "name": "ipython",
    "version": 3
   },
   "file_extension": ".py",
   "mimetype": "text/x-python",
   "name": "python",
   "nbconvert_exporter": "python",
   "pygments_lexer": "ipython3",
   "version": "3.7.8"
  }
 },
 "nbformat": 4,
 "nbformat_minor": 4
}
